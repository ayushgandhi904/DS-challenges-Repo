{
 "cells": [
  {
   "attachments": {},
   "cell_type": "markdown",
   "metadata": {},
   "source": [
    "### Q-12. A pharmaceutical company develops a new drug and wants to compare its effectiveness against a standard drug for treating a particular condition. They conduct a study with two groups: Group A receives the new drug, and Group B receives the standard drug. The company measures the improvement in a specific symptom for both groups after a 4-week treatment period.\n",
    "\n",
    "a. The company collects data from 30 patients in each group and calculates the mean improvement score and the standard deviation of improvement for each\n",
    "group. The mean improvement score for Group A is 2.5 with a standard deviation of 0.8, while the mean improvement score for Group B is 2.2 with a\n",
    "standard deviation of 0.6. Conduct a t-test to determine if there is a significant ifference in the mean improvement scores between the two groups. Use a\n",
    "significance level of 0.05.\n",
    "\n",
    "b. Based on the t-test results, state whether the null hypothesis should be rejected or not. Provide a conclusion in the context of the study."
   ]
  },
  {
   "cell_type": "code",
   "execution_count": 1,
   "metadata": {},
   "outputs": [
    {
     "name": "stdout",
     "output_type": "stream",
     "text": [
      "There is no significant difference in the mean improvement scores between Group A and Group B.\n",
      "t-statistic: 1.6431676725154976\n",
      "p-value: 0.10575916705583671\n"
     ]
    }
   ],
   "source": [
    "#1 \n",
    "\n",
    "import scipy.stats as stats\n",
    "\n",
    "mean_A = 2.5\n",
    "stddev_A = 0.8\n",
    "n_A = 30\n",
    "\n",
    "mean_B = 2.2\n",
    "stddev_B = 0.6\n",
    "n_B = 30\n",
    "\n",
    "# Calculate the t-test statistic and p-value\n",
    "t_statistic, p_value = stats.ttest_ind_from_stats(mean_A, stddev_A, n_A, mean_B, stddev_B, n_B)\n",
    "\n",
    "# Compare with the significance level\n",
    "alpha = 0.05\n",
    "if p_value < alpha:\n",
    "    print(\"There is a significant difference in the mean improvement scores between Group A and Group B.\")\n",
    "else:\n",
    "    print(\"There is no significant difference in the mean improvement scores between Group A and Group B.\")\n",
    "\n",
    "print(\"t-statistic:\", t_statistic)\n",
    "print(\"p-value:\", p_value)"
   ]
  },
  {
   "cell_type": "code",
   "execution_count": 2,
   "metadata": {},
   "outputs": [],
   "source": [
    "#2\n",
    "# since the p-value (0.105) is greater than the significance level (alpha) of 0.05, we fail to reject the null hypothesis. This means that there is not enough evidence to conclude that there is a significant difference in the mean improvement scores between Group A (new drug) and Group B (standard drug).\n",
    "\n"
   ]
  },
  {
   "cell_type": "code",
   "execution_count": null,
   "metadata": {},
   "outputs": [],
   "source": []
  }
 ],
 "metadata": {
  "kernelspec": {
   "display_name": "DataScience",
   "language": "python",
   "name": "python3"
  },
  "language_info": {
   "codemirror_mode": {
    "name": "ipython",
    "version": 3
   },
   "file_extension": ".py",
   "mimetype": "text/x-python",
   "name": "python",
   "nbconvert_exporter": "python",
   "pygments_lexer": "ipython3",
   "version": "3.9.16"
  },
  "orig_nbformat": 4
 },
 "nbformat": 4,
 "nbformat_minor": 2
}
