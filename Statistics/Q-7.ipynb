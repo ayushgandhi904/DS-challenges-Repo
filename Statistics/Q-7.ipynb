{
 "cells": [
  {
   "attachments": {},
   "cell_type": "markdown",
   "metadata": {},
   "source": [
    "### Q-7. The equations of two lines of regression, obtained in a correlation analysis between variables X and Y are as follows:\n",
    "2𝑋 + 3Y − 8 = 0 \n",
    "\n",
    "2𝑌 + 𝑋 − 5 = 0\n",
    "\n",
    "The variance of 𝑋 = 4 Find the\n",
    "\n",
    "a. Variance of Y\n",
    "\n",
    "b. Coefficient of determination of X and Y\n",
    "\n",
    "c. Standard error of estimate of X on Y and of Y on X"
   ]
  },
  {
   "cell_type": "code",
   "execution_count": 2,
   "metadata": {},
   "outputs": [],
   "source": [
    "#1 Variance of y\n",
    "\n",
    "variance_x = 4"
   ]
  },
  {
   "cell_type": "code",
   "execution_count": 3,
   "metadata": {},
   "outputs": [
    {
     "data": {
      "text/plain": [
       "4"
      ]
     },
     "execution_count": 3,
     "metadata": {},
     "output_type": "execute_result"
    }
   ],
   "source": [
    "coef_x = 1 #---> in equation 2\n",
    "\n",
    "variance_y = (coef_x)**2 * variance_x\n",
    "variance_y"
   ]
  },
  {
   "cell_type": "code",
   "execution_count": 5,
   "metadata": {},
   "outputs": [],
   "source": [
    "#2 Coefficient of determination of X & Y\n",
    "\n",
    "#Solving the equation in notebook \n",
    "\n",
    "x = 1\n",
    "y = 2"
   ]
  },
  {
   "cell_type": "code",
   "execution_count": 6,
   "metadata": {},
   "outputs": [
    {
     "data": {
      "text/plain": [
       "0.5"
      ]
     },
     "execution_count": 6,
     "metadata": {},
     "output_type": "execute_result"
    }
   ],
   "source": [
    "coef_determination = (y/variance_y)\n",
    "coef_determination"
   ]
  },
  {
   "cell_type": "code",
   "execution_count": 7,
   "metadata": {},
   "outputs": [
    {
     "name": "stdout",
     "output_type": "stream",
     "text": [
      "Variance of Y: 4\n",
      "Coefficient of determination (R^2): 1\n",
      "Standard error of estimate of X on Y: 0.0\n",
      "Standard error of estimate of Y on X: 0.0\n"
     ]
    }
   ],
   "source": [
    "#solving in terms of math code by importing lib\n",
    "\n",
    "import math\n",
    "\n",
    "equation1 = lambda x, y: 2 * x + 3 * y - 8\n",
    "equation2 = lambda x, y: 2 * y + x - 5\n",
    "\n",
    "variance_X = 4\n",
    "\n",
    "# a. Variance of Y\n",
    "variance_Y = 1**2 * variance_X\n",
    "print(\"Variance of Y:\", variance_Y)\n",
    "\n",
    "# b. Coefficient of determination (R^2) of X and Y\n",
    "intersection_point = (1, 2)\n",
    "R_squared = 1\n",
    "print(\"Coefficient of determination (R^2):\", R_squared)\n",
    "\n",
    "# c. Standard error of estimate of X on Y and Y on X\n",
    "std_error_X_on_Y = math.sqrt((1 - R_squared) * variance_X)\n",
    "std_error_Y_on_X = math.sqrt((1 - R_squared) * variance_Y)\n",
    "print(\"Standard error of estimate of X on Y:\", std_error_X_on_Y)\n",
    "print(\"Standard error of estimate of Y on X:\", std_error_Y_on_X)"
   ]
  },
  {
   "cell_type": "code",
   "execution_count": null,
   "metadata": {},
   "outputs": [],
   "source": []
  }
 ],
 "metadata": {
  "kernelspec": {
   "display_name": "DataScience",
   "language": "python",
   "name": "python3"
  },
  "language_info": {
   "codemirror_mode": {
    "name": "ipython",
    "version": 3
   },
   "file_extension": ".py",
   "mimetype": "text/x-python",
   "name": "python",
   "nbconvert_exporter": "python",
   "pygments_lexer": "ipython3",
   "version": "3.9.16"
  },
  "orig_nbformat": 4
 },
 "nbformat": 4,
 "nbformat_minor": 2
}
