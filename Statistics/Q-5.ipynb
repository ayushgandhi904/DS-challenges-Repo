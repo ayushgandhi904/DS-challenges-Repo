{
 "cells": [
  {
   "attachments": {},
   "cell_type": "markdown",
   "metadata": {},
   "source": [
    "### Q-5. A certain city has two taxi companies: Company A has 80% of the taxis and Company B has 20% of the taxis. Company A's taxis have a 95% success rate for picking up passengers on time, while Company B's taxis have a 90% success rate. If a randomly selected taxi is late, what is the probability that it belongs to Company A?"
   ]
  },
  {
   "attachments": {},
   "cell_type": "markdown",
   "metadata": {},
   "source": [
    "#### Explanation: \n",
    "\n",
    "--> Probability of getting A is 8/10 & B is 2/10, Failure rate of company A is 5/100, while failure rate of company B is 10/100\n",
    "\n",
    "--> Failure rate can be calucated by P(A)*P(failre(A)) + P(B)*P(faliure(B))\n",
    "\n",
    "--> Proability of taxi of being company A is Probability of being failure of A of total failure"
   ]
  },
  {
   "cell_type": "code",
   "execution_count": 1,
   "metadata": {},
   "outputs": [],
   "source": [
    "P_A = 0.8 #Probability of A\n",
    "P_B = 0.2 #Proabability of B\n",
    "\n",
    "F_A = 0.05 #Failure of A\n",
    "F_B = 0.1 #Failure of B"
   ]
  },
  {
   "cell_type": "code",
   "execution_count": 2,
   "metadata": {},
   "outputs": [
    {
     "data": {
      "text/plain": [
       "0.06000000000000001"
      ]
     },
     "execution_count": 2,
     "metadata": {},
     "output_type": "execute_result"
    }
   ],
   "source": [
    "#Total Proability of Failure\n",
    "\n",
    "P_failure = (P_A*F_A) + (P_B*F_B)\n",
    "P_failure"
   ]
  },
  {
   "cell_type": "code",
   "execution_count": 3,
   "metadata": {},
   "outputs": [],
   "source": [
    "#Being failure of company A\n",
    "\n",
    "A_failure = (P_A*F_A)/P_failure"
   ]
  },
  {
   "cell_type": "code",
   "execution_count": 4,
   "metadata": {},
   "outputs": [
    {
     "name": "stdout",
     "output_type": "stream",
     "text": [
      "Probability of being late by company A is 0.6666666666666666\n"
     ]
    }
   ],
   "source": [
    "print(f\"Probability of being late by company A is {A_failure}\")"
   ]
  }
 ],
 "metadata": {
  "kernelspec": {
   "display_name": "DataScience",
   "language": "python",
   "name": "python3"
  },
  "language_info": {
   "codemirror_mode": {
    "name": "ipython",
    "version": 3
   },
   "file_extension": ".py",
   "mimetype": "text/x-python",
   "name": "python",
   "nbconvert_exporter": "python",
   "pygments_lexer": "ipython3",
   "version": "3.9.16"
  },
  "orig_nbformat": 4
 },
 "nbformat": 4,
 "nbformat_minor": 2
}
