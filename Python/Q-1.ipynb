{
 "cells": [
  {
   "attachments": {},
   "cell_type": "markdown",
   "metadata": {},
   "source": [
    "### Q-1 Write a program that takes a string as input, and counts the frequency of each word in the string, there might be repeated characters in the string. Your task is to find the highest frequency and returns the length of the highest-frequency word."
   ]
  },
  {
   "cell_type": "code",
   "execution_count": 11,
   "metadata": {},
   "outputs": [],
   "source": [
    "#Sol:\n",
    "\n",
    "def highest_freq(sentence):\n",
    "    \n",
    "    #spliting sentence into words:\n",
    "    words = sentence.split()\n",
    "    #counting freq of each words:\n",
    "    words_count = {}\n",
    "    \n",
    "    for i in words:\n",
    "        if i in words_count:\n",
    "            words_count[i] += 1\n",
    "        else:\n",
    "            words_count[i] = 1\n",
    "            \n",
    "    #Getting the highest frequency length\n",
    "    highest_words = max(words_count.values())\n",
    "    \n",
    "    #Highest Freq word name\n",
    "    name = []\n",
    "    for i, j in words_count.items():\n",
    "        if j == highest_words:\n",
    "            name.append(i)\n",
    "    \n",
    "    #Finding length of word with highest freqency\n",
    "    highest_word_length = 0\n",
    "    for i, j in words_count.items():\n",
    "        if j == highest_words:\n",
    "            word_length = len(i)\n",
    "            if word_length > highest_word_length:\n",
    "                highest_word_length = word_length\n",
    "    \n",
    "    return f\"The highest repeated word is {name} & maximum length from word(s) {name} is {highest_word_length}\"        "
   ]
  },
  {
   "cell_type": "code",
   "execution_count": 12,
   "metadata": {},
   "outputs": [
    {
     "data": {
      "text/plain": [
       "\"The highest repeated word is ['write', 'from'] & maximum length from word(s) ['write', 'from'] is 5\""
      ]
     },
     "execution_count": 12,
     "metadata": {},
     "output_type": "execute_result"
    }
   ],
   "source": [
    "#Taking input from user\n",
    "\n",
    "highest_freq(input(\"Enter the sentence you want to see: \"))"
   ]
  }
 ],
 "metadata": {
  "kernelspec": {
   "display_name": "DataScience",
   "language": "python",
   "name": "python3"
  },
  "language_info": {
   "codemirror_mode": {
    "name": "ipython",
    "version": 3
   },
   "file_extension": ".py",
   "mimetype": "text/x-python",
   "name": "python",
   "nbconvert_exporter": "python",
   "pygments_lexer": "ipython3",
   "version": "3.9.16"
  },
  "orig_nbformat": 4
 },
 "nbformat": 4,
 "nbformat_minor": 2
}
