{
 "cells": [
  {
   "attachments": {},
   "cell_type": "markdown",
   "metadata": {},
   "source": [
    "### Q-2 Consider a string to be valid if all characters of the string appear the same number of times. It is also valid if he can remove just one character at the index in the string, and the remaining characters will occur the same number of times. Given a string, determine if it is valid. If so, return YES , otherwise return NO ."
   ]
  },
  {
   "cell_type": "code",
   "execution_count": 1,
   "metadata": {},
   "outputs": [],
   "source": [
    "def str_check(word):\n",
    "    \n",
    "    #1st counting frequency of each letter\n",
    "    letter_freq = {}\n",
    "    for i in word:\n",
    "        if i in letter_freq:\n",
    "            letter_freq[i] += 1\n",
    "        else:\n",
    "            letter_freq[i] = 1\n",
    "            \n",
    "\n",
    "    #frequency counting of num_frequency\n",
    "    \n",
    "    num_freq = {}\n",
    "    for i in letter_freq.values():\n",
    "        if i in num_freq:\n",
    "            num_freq[i] += 1\n",
    "        else:\n",
    "            num_freq[i] = 1\n",
    "    \n",
    "    \n",
    "    #Validating condition\n",
    "    if len(num_freq) == 1 or len(num_freq) == 2 and 1 in num_freq.values() and num_freq[1]==1:\n",
    "        return \"YES\"\n",
    "    else:\n",
    "        return \"NO\""
   ]
  },
  {
   "cell_type": "code",
   "execution_count": 2,
   "metadata": {},
   "outputs": [
    {
     "data": {
      "text/plain": [
       "'YES'"
      ]
     },
     "execution_count": 2,
     "metadata": {},
     "output_type": "execute_result"
    }
   ],
   "source": [
    "str_check(input(\"Enter the string you want to check: \"))"
   ]
  },
  {
   "cell_type": "code",
   "execution_count": 3,
   "metadata": {},
   "outputs": [
    {
     "data": {
      "text/plain": [
       "'NO'"
      ]
     },
     "execution_count": 3,
     "metadata": {},
     "output_type": "execute_result"
    }
   ],
   "source": [
    "str_check(input(\"Enter the string you want to check: \"))"
   ]
  }
 ],
 "metadata": {
  "kernelspec": {
   "display_name": "DataScience",
   "language": "python",
   "name": "python3"
  },
  "language_info": {
   "codemirror_mode": {
    "name": "ipython",
    "version": 3
   },
   "file_extension": ".py",
   "mimetype": "text/x-python",
   "name": "python",
   "nbconvert_exporter": "python",
   "pygments_lexer": "ipython3",
   "version": "3.9.16"
  },
  "orig_nbformat": 4
 },
 "nbformat": 4,
 "nbformat_minor": 2
}
